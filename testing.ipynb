{
 "cells": [
  {
   "cell_type": "code",
   "execution_count": 1,
   "id": "533ff69a-5369-4d47-a099-bd5c900c49c7",
   "metadata": {},
   "outputs": [],
   "source": [
    "%load_ext autoreload\n",
    "%autoreload 2\n",
    "\n",
    "from mapper import map_anywhere as mpa\n",
    "from mapper import graph_node, build_node_graph, extract_segments, filter_tree, break_loops\n",
    "from osrm_interface import osrm_handler\n",
    "\n",
    "import osmium\n",
    "import shapely.geometry as geom\n",
    "from shapely.ops import unary_union\n",
    "import matplotlib.pyplot as plt\n",
    "from matplotlib.collections import PatchCollection\n",
    "from matplotlib.patches import Polygon\n",
    "import numpy as np\n",
    "import pickle"
   ]
  },
  {
   "cell_type": "code",
   "execution_count": null,
   "id": "011e69e1-abc5-46e7-8f30-eff0d189fac6",
   "metadata": {},
   "outputs": [],
   "source": [
    "# Simple example\n",
    "dest_latlon = (47.635639, -122.105031) # Reid and Emma\n",
    "# dest_latlon = (47.752200, -122.317425) # Rachel and Nikole\n",
    "# dest_latlon = (36.970433, -122.007613) # Cayla\n",
    "\n",
    "n_sample = 20000\n",
    "\n",
    "width = 0.5 # deg\n",
    "height = 0.5 # deg\n",
    "\n",
    "# nw_latlon = (48.954886, -125.652977)\n",
    "# se_latlon = (31.133894, -105.457201)\n",
    "\n",
    "router = mpa()\n",
    "router.set_destination(dest_latlon)\n",
    "if width is not None:\n",
    "    router.set_bounding_box_centered(width, height)\n",
    "else:\n",
    "    router.set_bounding_box(nw_latlon, se_latlon)\n",
    "router.sample_nodes(n_sample)\n",
    "router.sample_routes(geometry=True)"
   ]
  },
  {
   "cell_type": "code",
   "execution_count": null,
   "id": "d1270c9e-b066-43d1-8acc-49ddee08413b",
   "metadata": {},
   "outputs": [],
   "source": [
    "print(len(router.node_dict))\n",
    "print(len(router.segment_counts))\n",
    "print(len(router.lonlat_dict))"
   ]
  },
  {
   "cell_type": "code",
   "execution_count": null,
   "id": "7dfcd75c-0479-4f1f-8307-519f9a6bb285",
   "metadata": {},
   "outputs": [],
   "source": [
    "tree = build_node_graph(router.segment_counts)\n",
    "filter_tree(tree)\n",
    "segments = extract_segments(tree)\n",
    "segments += break_loops(tree)\n",
    "segments += extract_segments(tree)"
   ]
  },
  {
   "cell_type": "code",
   "execution_count": null,
   "id": "06f6b912-2c89-455b-8d9c-cadd027ac8f0",
   "metadata": {},
   "outputs": [],
   "source": [
    "node_set = set()\n",
    "for n1n2 in router.segment_counts:\n",
    "    n1, n2 = n1n2\n",
    "    node_set.add(n1)\n",
    "    node_set.add(n2)"
   ]
  },
  {
   "cell_type": "code",
   "execution_count": null,
   "id": "a59a3417-7178-4fc7-908a-2508677da9e8",
   "metadata": {},
   "outputs": [],
   "source": [
    "nodes_lonlat = router.lonlat_dict\n",
    "k = next(iter(nodes_lonlat))\n",
    "nodes_lonlat[k]"
   ]
  },
  {
   "cell_type": "code",
   "execution_count": null,
   "id": "9164c677-e20e-4006-ae3f-379e85137ed4",
   "metadata": {},
   "outputs": [],
   "source": [
    "# Need to extract segments\n",
    "class segment_t():\n",
    "    def __init__(self, seg_list, nodes_lonlat):\n",
    "        # self.weight = np.log(seg_list[0] + 1)\n",
    "        self.weight = (seg_list[0]) ** 0.25\n",
    "        self.nodes = seg_list[1]\n",
    "        self.lon = [nodes_lonlat[n][0] for n in self.nodes]\n",
    "        self.lat = [nodes_lonlat[n][1] for n in self.nodes]"
   ]
  },
  {
   "cell_type": "code",
   "execution_count": null,
   "id": "017b113b-dc40-47f9-ace1-59077e184ad8",
   "metadata": {},
   "outputs": [],
   "source": [
    "segment_list = [segment_t(s, nodes_lonlat) for s in segments]"
   ]
  },
  {
   "cell_type": "code",
   "execution_count": null,
   "id": "d5e9493d-74bf-4106-9252-ff3e0aafe37b",
   "metadata": {},
   "outputs": [],
   "source": [
    "# Plot things, hopefully aesthetically nicely\n",
    "fig, ax = plt.subplots(figsize=(15, 15), dpi=100)\n",
    "# ax.set_aspect('equal')\n",
    "\n",
    "linewidth_scale = 1\n",
    "for segment in segment_list:\n",
    "    plt.plot(segment.lon, segment.lat, color='#2C3E50', alpha=1.0, linewidth=segment.weight*linewidth_scale, antialiased=True)\n",
    "\n",
    "padding = 1.1\n",
    "# if nw_latlon is not None:\n",
    "#     pad_w = (se_latlon[1] - nw_latlon[1]) * padding / 2\n",
    "#     pad_h = (nw_latlon[0] - se_latlon[0]) * padding / 2\n",
    "#     plt.xlim([nw_latlon[1] - pad_w, se_latlon[1] + pad_w])\n",
    "#     plt.ylim([se_latlon[0] - pad_h, se_latlon[0] + pad_h])\n",
    "# else:\n",
    "#     plt.xlim([dest_latlon[1] - padding * width/2, dest_latlon[1] + padding * width/2])\n",
    "#     plt.ylim([dest_latlon[0] - padding * height/2, dest_latlon[0] + padding * height/2])\n",
    "\n",
    "# Styling for aesthetic output\n",
    "ax.set_facecolor('#ECF0F1')  # Light background\n",
    "ax.axis('off')\n",
    "plt.tight_layout(pad=0)\n",
    "plt.savefig('output.png', dpi=600, bbox_inches='tight', facecolor='#ECF0F1')\n",
    "plt.show()"
   ]
  },
  {
   "cell_type": "code",
   "execution_count": null,
   "id": "111ba5d1-3405-4284-b381-6c3a1e52300a",
   "metadata": {},
   "outputs": [],
   "source": []
  },
  {
   "cell_type": "code",
   "execution_count": null,
   "id": "fb38bcdd-a60b-40d1-97e9-f25f90925dda",
   "metadata": {},
   "outputs": [],
   "source": []
  },
  {
   "cell_type": "code",
   "execution_count": 2,
   "id": "78a8a73b-ef55-4a89-ad9e-05c9514a5fb7",
   "metadata": {},
   "outputs": [],
   "source": [
    "class WayNodeHandler(osmium.SimpleHandler):\n",
    "    def __init__(self):\n",
    "        super().__init__()\n",
    "        self.nodes = {}\n",
    "    \n",
    "    def way(self, w):\n",
    "        if 'highway' in w.tags:\n",
    "            for n in w.nodes:\n",
    "                self.nodes[n.ref] = (n.location.lon, n.location.lat)"
   ]
  },
  {
   "cell_type": "code",
   "execution_count": 4,
   "id": "655b032c-bfbe-41d9-bc56-2f5dd0e4caf9",
   "metadata": {},
   "outputs": [],
   "source": [
    "handler = WayNodeHandler()\n",
    "# handler.apply_file(\"washington-250930.osm.pbf\", locations=True)\n",
    "pbf_file = \"us-west-250930.osm.pbf\"\n",
    "handler.apply_file(pbf_file, locations=True)"
   ]
  },
  {
   "cell_type": "code",
   "execution_count": 5,
   "id": "1e0711ce-cce7-480d-bf8f-8668e6e3a2ba",
   "metadata": {},
   "outputs": [],
   "source": [
    "import pickle\n",
    "\n",
    "file = f\"{pbf_file}.p\"\n",
    "\n",
    "with open(file, 'wb') as f:\n",
    "    pickle.dump(handler.nodes, f)\n",
    "\n",
    "# Later, load instantly\n",
    "with open(file, 'rb') as f:\n",
    "    latlon_dict = pickle.load(f)"
   ]
  }
 ],
 "metadata": {
  "kernelspec": {
   "display_name": "Python 3 (ipykernel)",
   "language": "python",
   "name": "python3"
  },
  "language_info": {
   "codemirror_mode": {
    "name": "ipython",
    "version": 3
   },
   "file_extension": ".py",
   "mimetype": "text/x-python",
   "name": "python",
   "nbconvert_exporter": "python",
   "pygments_lexer": "ipython3",
   "version": "3.13.7"
  }
 },
 "nbformat": 4,
 "nbformat_minor": 5
}
